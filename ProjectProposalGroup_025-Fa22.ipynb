{
 "cells": [
  {
   "cell_type": "markdown",
   "metadata": {},
   "source": [
    "# COGS 108 - Final Project Proposal"
   ]
  },
  {
   "cell_type": "markdown",
   "metadata": {},
   "source": [
    "# Names\n",
    "\n",
    "- Angkitha Anguraj\n",
    "- Christian Goodale\n",
    "- Immanuel Tran\n",
    "- Camille Yabut\n",
    "- Sophia Yonus"
   ]
  },
  {
   "cell_type": "markdown",
   "metadata": {},
   "source": [
    "# Research Question"
   ]
  },
  {
   "cell_type": "markdown",
   "metadata": {},
   "source": [
    "-  Include a specific, clear data science question.\n",
    "-  Make sure what you're measuring (variables) to answer the question is clear\n",
    "\n",
    "Is there a correlation between the changes in attendance at the top 3 UCs (UCLA, UCB, UCSD) and the changes in the housing market prices of the areas surrounding the campuses (<= 15miles) in the past 4 years? "
   ]
  },
  {
   "cell_type": "markdown",
   "metadata": {},
   "source": [
    "## Background and Prior Work"
   ]
  },
  {
   "cell_type": "markdown",
   "metadata": {},
   "source": [
    "\n",
    "- Include a general introduction to your topic\n",
    "- Include explanation of what work has been done previously\n",
    "- Include citations or links to previous work\n",
    "\n",
    "We would like to analyze the relationship between the housing prices of areas around the top 3 UCs (LA, B, SD) and the increase in their populations over the past 4 years (2018-2021). Previously, we have not necessarily done any work relating to the topic but have heard a lot about both the housing crisis in college areas as well as the rising admission rates. These topics obviously are meaningful to us as college students who have had to deal with the ongoing housing and campus overpopulation crisis. \n",
    "\n",
    "Many of us have heard that for this academic year, the UC’s admitted a record amount of undergraduates, especially from instate[^weissman], and this does not come without consequence. Since the UC campuses are limited in space and resources, it is not feasible for them to house all the students they admit on campus. Markedly, we have seen this effect UCSD’s housing policies as they recently decided to end their guarantee on second-year housing[^gaeta-munoz]. Further, we have seen from the news that the waves of new admissions have created housing crises in the surrounding areas, like what happened in Berkeley[^kamm]. Most of this so far has been motivated by our inferences based on the news we have heard about admissions and housing, but doing a bit of light research has shown us that previous research on this topic has shown there to be a positive correlation between the presence of a college in a town and the housing prices[^vandergrift].\n",
    "\n",
    "[^weissman]: Weissman, S. (15 August 2022) U of California Admits Record Number of Californians. *Inside Higher Ed*\n",
    "[^gaeta-munoz]: Gaeta-Munoz V. (27 August 2021) UCSD Ends Two Year Housing Guarantee. *The Triton* \n",
    "[^kamm]: Kamm, S. (22 Feb 2022) Letters to the Editor: UC Berkeley created a housing crisis. It needs to enroll fewer nonresidents. *Los Angeles Times*\n",
    "[^vandergrift]: Vandergrift D., Lockhiss A.,Lahr M. (17 May 2012) Town versus Gown: The Effect of a College on Housing Prices and the Tax Base. *Wiley Online Library*"
   ]
  },
  {
   "cell_type": "markdown",
   "metadata": {},
   "source": [
    "# Hypothesis\n"
   ]
  },
  {
   "cell_type": "markdown",
   "metadata": {},
   "source": [
    "\n",
    "- Include your team's hypothesis\n",
    "- Ensure that this hypothesis is clear to readers\n",
    "- Explain why you think this will be the outcome (what was your thinking?)\n",
    "\n",
    "We hypothesize that the increase in admissions is positively correlated with the increase in housing prices. This is because the more students that attend a college, the higher the demand will be for off-campus housing as there is limited on-campus housing. We think this will be the outcome as it makes intuitive sense to us from an economic standpoint."
   ]
  },
  {
   "cell_type": "markdown",
   "metadata": {},
   "source": [
    "# Data"
   ]
  },
  {
   "cell_type": "markdown",
   "metadata": {},
   "source": [
    "1. Explain what the **ideal** dataset you would want to answer this question. (This should include: What variables? How many observations? Who/what/how would these data be collected? How would these data be stored/organized?)\n",
    "1. Search for potential **real** datasets that could provide you with something useful for this project.  You do not have to find every piece of data you will use, but you do need to have demonstrated some idea that (a) this data is gettable and (b) that this data may be different from what your ideal is\n",
    "\n",
    "Ideal Data Set\n",
    "* Variables \n",
    "    - Cost of annual leases for all apartments surrounding campus areas (<= 15 miles) from 2018-2022\n",
    "    - Yearly admission numbers for UC Berkeley, UCLA, and UCSD from 2018-2022\n",
    "* Number of Observations\n",
    "    - Admissions data points: total number of students enrolled per year, total number of undergraduates admitted per year, total number of transfers admitted per year, \n",
    "    - Rent Price data points: about 1,000 per location\n",
    "    - Population data: population of surrounding area per year\n",
    "* How would these data be collected?\n",
    "    - The admission rates data is collected by the UC’s themselves\n",
    "    - Population data comes from the census\n",
    "    - Housing price data could be tracked by the city, or perhaps websites that track available housing by price like Apartments.com or Zillow\n",
    "    - In general, want credible sources of data \n",
    "* How would these data be stored/organized?\n",
    "    - We would want this data to be stored in a table or .csv file\n",
    "\n",
    "Potential Data Sets\n",
    "* UC Admissions Data\n",
    "    - https://www.universityofcalifornia.edu/about-us/information-center/admissions-residency-and-ethnicity\n",
    "    - https://www.universityofcalifornia.edu/about-us/information-center/fall-enrollment-glance \n",
    "* Rent Price Data\n",
    "    - https://www.redfin.com/neighborhood/3055/CA/Los-Angeles/Westwood/housing-market \n",
    "    - https://www.zumper.com/rent-research/los-angeles-ca/westwood \n",
    "    - https://www.redfin.com/city/1590/CA/Berkeley/housing-market\n",
    "    - https://www.redfin.com/neighborhood/1445/CA/San-Diego/La-Jolla/housing-market\n",
    "* Population Data\n",
    "    - https://www.census.gov/quickfacts/fact/table/berkeleycitycalifornia,losangelescitycalifornia,sandiegocitycalifornia/PST045221 \n",
    "    - https://www.census.gov/quickfacts/fact/table/sandiegocountycalifornia/INC110220 (2021 US Census estimates for San Diego County)\n",
    "    \n"
   ]
  },
  {
   "cell_type": "markdown",
   "metadata": {},
   "source": [
    "# Ethics & Privacy"
   ]
  },
  {
   "cell_type": "markdown",
   "metadata": {},
   "source": [
    "- Thoughtful discussion of ethical concerns included\n",
    "- Ethical concerns consider the whole data science process (question asked, data collected, data being used, the bias in data, analysis, post-analysis, etc.)\n",
    "- How your group handled bias/ethical concerns clearly described\n",
    "\n",
    "Acknowledge and address any ethics & privacy related issues of your question(s), proposed dataset(s), and/or analyses. Use the information provided in lecture to guide your group discussion and thinking. If you need further guidance, check out [Deon's Ethics Checklist](http://deon.drivendata.org/#data-science-ethics-checklist). In particular:\n",
    "\n",
    "- Are there any biases/privacy/terms of use issues with the data you propsed?\n",
    "    - In regards to privacy and terms of use, we will not use unethical practices and/or breach regulations. Furthermore, we will take action to prevent compromising anyone's privacy and displaying any unnecessary information. We may run into data containing demographic information, however, this is not the main factor of our research. \n",
    "- Are there potential biases in your dataset(s), in terms of who it composes, and how it was collected, that may be problematic in terms of it allowing for equitable analysis? (For example, does your data exclude particular populations, or is it likely to reflect particular human biases in a way that could be a problem?)\n",
    "    - Because we are university students, specifically UCSD students, there could be bias because we would want to prove that an increase in admissions has been causing the housing crisis we currently suffer from. \n",
    "- How will you set out to detect these specific biases before, during, and after/when communicating your analysis?\n",
    "    - We will use reputable sources of data, we will keep our own biases in mind, and we will accurately report all of our findings in our analysis no matter the result. \n",
    "- Are there any other issues related to your topic area, data, and/or analyses that are potentially problematic in terms of data privacy and equitable impact?\n",
    "    - In terms of privacy in our research, the identification of demographics or profiles will not be recorded. Assuming we will be utilizing secondary data, we will integrate the observations and categories that are required for our project. \n",
    "- How will you handle issues you identified?\n",
    "    - We will handle these issues by removing unnecessary data that may conflict with data privacy. In regards to equitable impact, we will not negotiate the privacy of our data and preserve anonymity. "
   ]
  },
  {
   "cell_type": "markdown",
   "metadata": {},
   "source": [
    "# Team Expectations "
   ]
  },
  {
   "cell_type": "markdown",
   "metadata": {},
   "source": [
    "\n",
    "Read over the [COGS108 Team Policies](https://github.com/COGS108/Projects/blob/master/COGS108_TeamPolicies.md) individually. Then, include your group’s expectations of one another for successful completion of your COGS108 project below. Discuss and agree on what all of your expectations are. Discuss how your team will communicate throughout the quarter and consider how you will communicate respectfully should conflicts arise. By including each member’s name above and by adding their name to the submission, you are indicating that you have read the COGS108 Team Policies, accept your team’s expectations below, and have every intention to fulfill them. These expectations are for your team’s use and benefit — they won’t be graded for their details.\n",
    "\n",
    "* *We will discuss the direction of the project as a group and assign tasks according to individual strengths.*\n",
    "* *We expect that each member will contribute their shared work and have it completed by the agreed deadline. With this, we will also hold each other accountable for our roles and responsibilities.*\n",
    "* *We will communicate any problems and discuss any difficulties that may arise while working on the project.*\n",
    "* *Discord and Zoom will be our main forms of communication for project updates and meetings.*\n"
   ]
  },
  {
   "cell_type": "markdown",
   "metadata": {},
   "source": [
    "# Project Timeline Proposal"
   ]
  },
  {
   "cell_type": "markdown",
   "metadata": {},
   "source": [
    "Specify your team's specific project timeline. An example timeline has been provided. Changes the dates, times, names, and details to fit your group's plan.\n",
    "\n",
    "If you think you will need any special resources or training outside what we have covered in COGS 108 to solve your problem, then your proposal should state these clearly. For example, if you have selected a problem that involves implementing multiple neural networks, please state this so we can make sure you know what you’re doing and so we can point you to resources you will need to implement your project. Note that you are not required to use outside methods.\n",
    "\n",
    "\n",
    "\n",
    "| Week  | Date| Completed Before Meeting  | Discuss at Meeting |\n",
    "|---|---|---|---|\n",
    "| 4  |  10/19 | Brainstorm topic ideas  | Determine topic, talk about timeline and expectations, finalize research question and hypothesis and brainstorm what to mention in the Background and Prior Work section, Hypothesis | \n",
    "| 5  |  10/26|  Project proposal, preliminary data mining, background and prior work, refining the data question | Avenues for data, general trends, solidity of introduction to project, citations to previous works | \n",
    "| 6 | 11/2 | Researching previous works and improving upon them, researching applicable datasets from various sources | Choosing data set, plan next steps and task assignments   |\n",
    "| 7 | 11/9 | Refining data set, utilizing course knowledge to format data, cite sources and verify validity through reviews and other sources | Data visualization methods, findings, framing explanations and getting an idea on the conclusion    |\n",
    "| 8  | 11/16 | Further data visualization, interpretations of visualizations, connecting conclusions from datasets to final conclusion  | Discussing how to mitigate data analysis and results |\n",
    "| 9 | 11/23 | Data analyses, explanations, thoughtful walkthrough on procedure and embedded code| DSplitting up conclusion and privacy/ethics section |\n",
    "| 10  | 11/30  | Privacy and Ethics Considerations (ideally a few paragraphs), Conclusion and Discussion (needs to be concise and ideally no more than 2  | Things required to finish before submission, last touches to conclusion and discussion,  |\n",
    "| Finals  | 11/7  | Final project review; overviewing final details, finishing touches, any additional formatting changes | Last minute changes, final thoughts, submission |"
   ]
  }
 ],
 "metadata": {
  "kernelspec": {
   "display_name": "Python 3",
   "language": "python",
   "name": "python3"
  },
  "language_info": {
   "codemirror_mode": {
    "name": "ipython",
    "version": 3
   },
   "file_extension": ".py",
   "mimetype": "text/x-python",
   "name": "python",
   "nbconvert_exporter": "python",
   "pygments_lexer": "ipython3",
   "version": "3.8.8"
  }
 },
 "nbformat": 4,
 "nbformat_minor": 2
}
