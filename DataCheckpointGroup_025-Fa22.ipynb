{
 "cells": [
  {
   "cell_type": "markdown",
   "metadata": {},
   "source": [
    "# COGS 108 - Data Checkpoint"
   ]
  },
  {
   "cell_type": "markdown",
   "metadata": {},
   "source": [
    "# Names\n",
    "\n",
    "- Angkitha Anguraj\n",
    "- Christian Goodale\n",
    "- Immanuel Tran\n",
    "- Camille Yabut\n",
    "- Sophia Yonus"
   ]
  },
  {
   "cell_type": "markdown",
   "metadata": {},
   "source": [
    "<a id='research_question'></a>\n",
    "# Research Question"
   ]
  },
  {
   "cell_type": "markdown",
   "metadata": {},
   "source": [
    "Is there a relationship between the **number of new enrollees** in the University of California (UC) schools and the **rental prices** of the county where the UC school is located in the years 2010-2021? Additionally, what other factors, such as college ranking and median household income, affect the location’s rental price? \n"
   ]
  },
  {
   "cell_type": "markdown",
   "metadata": {},
   "source": [
    "# Dataset(s)"
   ]
  },
  {
   "cell_type": "markdown",
   "metadata": {},
   "source": [
    "**Admission Data**\n",
    "- Dataset Name: Undergraduate admissions summary\n",
    "- Link to Dataset: https://www.universityofcalifornia.edu/about-us/information-center/admissions-residency-and-ethnicity \n",
    "- Number of observations: 1 dataset per UC (9 total), 24x11 observations in each set\n",
    "\n",
    "This dataset contains the undergraduate admissions data for all UC schools from the University of California itself. We are specifically interested in the new number of enrollees, defined as “students who have accepted an offer of admission and are enrolled at the University of California.”  \n",
    "\n",
    "**Median Rental Prices**\n",
    "- Dataset Name: B25064 MEDIAN GROSS RENT (DOLLARS)\n",
    "- Link to Dataset: https://data.census.gov/cedsci/table?q=B25064%3A%20MEDIAN%20GROSS%20RENT%20%28DOLLARS%29&g=0100000US_0400000US06_0500000US06001,06037,06047,06059,06065,06073,06083,06087,06113&tid=ACSDT1Y2021.B25064&moe=true \n",
    "- Number of observations: 1 row per year \n",
    "\n",
    "This dataset from the US Census American Community Survey describes the median gross rent in dollars filtered by the 9 counties where the UC schools are located. As each dataset is separated by year, we will download the separate CSV files and concatenate the rows to create a data frame containing all the rent data from 2010-2021. \n",
    "\n",
    "\n",
    "**College Ranking**  \n",
    "\n",
    "Dataset Name & Description\n",
    "- U.S. News: America’s Top National Universities from the UC Accountability Reports\n",
    "- These datasets are obtained from the University of California’s Accountability Annual Reports. They list all of the UCs national rankings by place competing with private and public universities. We plan to look at the table for America’s Top National Universities from 2010-2021 for our data analysis. \n",
    "\n",
    "How We Plan to Combine the Data Sets\n",
    "- To get this data, we will use web scraping to pull out the table of interest – U.S. News: America’s Top National Universities – for each year. Afterward, we will concatenate the data into one data frame to pull out the desired rankings. \n",
    "\n",
    "Links to the Dataset & Number of Observations\n",
    "- 2010-2017 Rankings\n",
    "    - https://accountability.universityofcalifornia.edu/2017/chapters/chapter-14.html \n",
    "    - 17 rows, only 9 relevant to analysis \n",
    "- 2018 Rankings\n",
    "    - https://accountability.universityofcalifornia.edu/2018/chapters/chapter-13.html \n",
    "    - 9 rows\n",
    "- 2019 Rankings\n",
    "    - https://accountability.universityofcalifornia.edu/2019/chapters/chapter-13.html \n",
    "    - 9 rows\n",
    "- 2020 Rankings\n",
    "    - https://accountability.universityofcalifornia.edu/2020/chapters/chapter-13.html \n",
    "    - 9 rows\n",
    "- 2021 Rankings\n",
    "    - https://accountability.universityofcalifornia.edu/2021/chapters/chapter-13.html \n",
    "    - 9 rows\n",
    "\n",
    "\n",
    "**Median Household Income (by County)**\n",
    "\n",
    "Dataset Names & Description \n",
    "- FRED St. Louis Fed Data:\n",
    "    - These datasets gather an estimate of the median household income (dollars) for a specified county for the years ~1989-2020. This dataset only includes two columns, the DATE which is the 1st of January for the years 1989-2020, and the MHICAXXXXXXXXX which is the Median Household Income in dollars. We gathered the datasets for the relevant counties.\n",
    "- 2021 ACS Data:\n",
    "    - This Dataset comes from the American Community Survey and it gathers information on various different economic characteristics for American households in each county of each state. It measures aspects of employment, occupation, health insurance, income bracket, and measures of central tendency for household income, and gets totals and percentages for each measured variable where possible. We only want to use the Median Household Income (dollars) for the relevant communities. \n",
    "\n",
    "How We Plan to Combine the Data Sets\n",
    "- The St. Louis Fed datasets only measure one county for each set so we will have to merge the 9 datasets together into one data frame matching based on year. We will need to use the ACS dataset to add the median household income for the year 2021 since it isn’t accounted for in our other data. Prior to adding this as another row to our data frame, we checked the estimates ACS gave for other years to see if they were not notably different enough to possibly throw off our analysis.\n",
    "\n",
    "Link to Data Sets and Number of Observations \n",
    "- 2021 All Counties Data\n",
    "    - American Community Survey | DP03 | Selected Economic Characteristics (2021)\n",
    "    - https://data.census.gov/cedsci/table?t=Families%20and%20Household%20Characteristics&g=0500000US06001,06037,06047,06059,06065,06073,06083,06087,06113&d=ACS%201-Year%20Estimates%20Data%20Profiles&tid=ACSDP1Y2021.DP03&moe=false\n",
    "    - ~140x18, only 9 observations are relevant to our analysis\n",
    "- UC Berkeley (Alameda County)\n",
    "    - https://fred.stlouisfed.org/series/MHICA06001A052NCEN \n",
    "    - 30x2, only 20 relevant \n",
    "- UC Los Angeles (Los Angeles County)\n",
    "    - https://fred.stlouisfed.org/series/MHICA06037A052NCEN \n",
    "    - 30x2, only 20 relevant\n",
    "- UC San Diego (San Diego County)\n",
    "    - https://fred.stlouisfed.org/series/MHICA06073A052NCEN \n",
    "    - 30x2, only 20 relevant\n",
    "- UC Santa Barbara\n",
    "    - https://fred.stlouisfed.org/series/MHICA06083A052NCEN \n",
    "    - 30x2, only 20 relevant\n",
    "- UC Irvine (Orange County)\n",
    "    - https://fred.stlouisfed.org/series/MHICA06059A052NCEN \n",
    "    - 30x2, only 20 relevant\n",
    "- UC Riverside (Riverside County)\n",
    "    - https://fred.stlouisfed.org/series/MHICA06065A052NCEN \n",
    "    - 30x2, only 20 relevant\n",
    "- UC Santa Cruz (Santa Cruz)\n",
    "    - https://fred.stlouisfed.org/series/MHICA06087A052NCEN \n",
    "    - 30x2, only 20 relevant\n",
    "- UC Davis (Yolo County)\n",
    "    - https://fred.stlouisfed.org/series/MHICA06113A052NCEN \n",
    "    - 30x2, only 20 relevant\n",
    "- UC Merced (Merced County)\n",
    "    - https://fred.stlouisfed.org/series/MHICA06047A052NCEN \n",
    "    - 30x2, only 20 relevant\n",
    "\n"
   ]
  },
  {
   "cell_type": "markdown",
   "metadata": {},
   "source": [
    "# Setup"
   ]
  },
  {
   "cell_type": "code",
   "execution_count": null,
   "metadata": {},
   "outputs": [],
   "source": [
    "# SETUP"
   ]
  },
  {
   "cell_type": "markdown",
   "metadata": {},
   "source": [
    "# Data Cleaning"
   ]
  },
  {
   "cell_type": "markdown",
   "metadata": {},
   "source": [
    "## Admissions Data"
   ]
  },
  {
   "cell_type": "code",
   "execution_count": null,
   "metadata": {},
   "outputs": [],
   "source": [
    "## YOUR CODE HERE\n",
    "## FEEL FREE TO ADD MULTIPLE CELLS PER SECTION"
   ]
  },
  {
   "cell_type": "markdown",
   "metadata": {},
   "source": [
    "## Median Rental Price Data"
   ]
  },
  {
   "cell_type": "code",
   "execution_count": null,
   "metadata": {},
   "outputs": [],
   "source": []
  },
  {
   "cell_type": "markdown",
   "metadata": {},
   "source": [
    "## College Ranking Data"
   ]
  },
  {
   "cell_type": "code",
   "execution_count": null,
   "metadata": {},
   "outputs": [],
   "source": [
    "# webscrape each site for desired table\n",
    "# isolate data points of interest\n",
    "# combine data sets into one dataframe "
   ]
  },
  {
   "cell_type": "markdown",
   "metadata": {},
   "source": [
    "## Median Household Income Data"
   ]
  },
  {
   "cell_type": "markdown",
   "metadata": {},
   "source": []
  }
 ],
 "metadata": {
  "kernelspec": {
   "display_name": "Python 3",
   "language": "python",
   "name": "python3"
  },
  "language_info": {
   "codemirror_mode": {
    "name": "ipython",
    "version": 3
   },
   "file_extension": ".py",
   "mimetype": "text/x-python",
   "name": "python",
   "nbconvert_exporter": "python",
   "pygments_lexer": "ipython3",
   "version": "3.7.9"
  }
 },
 "nbformat": 4,
 "nbformat_minor": 2
}
